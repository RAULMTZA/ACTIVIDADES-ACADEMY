{
  "nbformat": 4,
  "nbformat_minor": 0,
  "metadata": {
    "colab": {
      "provenance": [],
      "history_visible": true,
      "authorship_tag": "ABX9TyOL1fidqCRWG7MOo2+s/q4+",
      "include_colab_link": true
    },
    "kernelspec": {
      "name": "python3",
      "display_name": "Python 3"
    },
    "language_info": {
      "name": "python"
    }
  },
  "cells": [
    {
      "cell_type": "markdown",
      "metadata": {
        "id": "view-in-github",
        "colab_type": "text"
      },
      "source": [
        "<a href=\"https://colab.research.google.com/github/RAULMTZA/ACTIVIDADES-ACADEMY/blob/main/Copia_de_diccionariomayaJson.ipynb\" target=\"_parent\"><img src=\"https://colab.research.google.com/assets/colab-badge.svg\" alt=\"Open In Colab\"/></a>"
      ]
    },
    {
      "cell_type": "code",
      "execution_count": null,
      "metadata": {
        "colab": {
          "base_uri": "https://localhost:8080/"
        },
        "id": "J0E9-eclhFRY",
        "outputId": "9549bd15-b735-4f78-e04f-6dafe066cb13"
      },
      "outputs": [
        {
          "output_type": "stream",
          "name": "stdout",
          "text": [
            "Datos extraidos y guardados en diccionario_maya.json\n"
          ]
        }
      ],
      "source": [
        "import requests\n",
        "from bs4 import BeautifulSoup\n",
        "import json\n",
        "\n",
        "url = 'https://pueblosoriginarios.com/lenguas/mayas.php'\n",
        "\n",
        "response = requests.get(url)\n",
        "\n",
        "if response.status_code == 200:\n",
        "\n",
        "  soup = BeautifulSoup(response.text,'html.parser')\n",
        "\n",
        "  table = soup.find('table',{'id':'diccionario'})\n",
        "\n",
        "  rows = table.find_all('tr')\n",
        "\n",
        "  diccionario_data = []\n",
        "\n",
        "  for row in rows[1:]:\n",
        "    cols = row.find_all('td')\n",
        "\n",
        "    if len(cols) == 2:\n",
        "      maya_word = cols[0].text.strip()\n",
        "      spanish_word = cols[1].text.strip()\n",
        "      diccionario_data.append({'Maya':maya_word, 'Español':spanish_word})\n",
        "\n",
        "  json_data = json.dumps(diccionario_data, indent=4, ensure_ascii=False)\n",
        "\n",
        "  with open('diccionario_maya.json', 'w', encoding='utf-8') as file:\n",
        "    file.write(json_data)\n",
        "\n",
        "  print(\"Datos extraidos y guardados en diccionario_maya.json\")\n",
        "\n",
        "else:\n",
        "\n",
        "  print(\"error al conectarse a la web\")\n",
        "\n"
      ]
    },
    {
      "cell_type": "code",
      "source": [
        "import pandas as pd\n",
        "\n",
        "# Cargar los datos desde archivo json\n",
        "with open('diccionario_maya.json','r', encoding='utf-8') as file:\n",
        "  diccionario_data = json.load(file)\n",
        "\n",
        "# Crear un dataframe\n",
        "df = pd.DataFrame(diccionario_data)\n",
        "\n",
        "# Crear el excel a partir del DataFrame\n",
        "df.to_excel('diccionario_maya.xlsx', index=False)\n",
        "\n",
        "print(\"Datos guardados en el diccionario_maya.xlsx\")"
      ],
      "metadata": {
        "colab": {
          "base_uri": "https://localhost:8080/"
        },
        "id": "ByLvzSz9pyOg",
        "outputId": "c2ca0981-9d3a-457f-cd38-5f5408846743"
      },
      "execution_count": null,
      "outputs": [
        {
          "output_type": "stream",
          "name": "stdout",
          "text": [
            "Datos guardados en el diccionario_maya.xlsx\n"
          ]
        }
      ]
    },
    {
      "cell_type": "code",
      "source": [
        "import pandas as pd\n",
        "import json\n",
        "\n",
        "# Cargar los datos desde archivo json\n",
        "with open('diccionario_maya.json','r', encoding='utf-8') as file:\n",
        "  diccionario_data = json.load(file)\n",
        "\n",
        "# Crear un dataframe\n",
        "df = pd.DataFrame(diccionario_data)\n",
        "\n",
        "# 1. Estadisticas descriptiva\n",
        "\n",
        "descripcion_maya = df['Maya'].describe()\n",
        "descripcion_espanol = df['Español'].describe()\n",
        "\n",
        "print(\"Estadistica descriptiva de las palabras Maya\")\n",
        "print(descripcion_maya)\n",
        "\n",
        "print(\"Estadistica descriptiva de las palabras Español\")\n",
        "print(descripcion_espanol)\n",
        "\n",
        "#2. filtrar datos\n",
        "\n",
        "palabras_con_a = df[df['Maya'].str.startswith('a',na=False)]\n",
        "\n",
        "print(\"Palabras que comienzan con 'a' : \")\n",
        "print(palabras_con_a)\n",
        "\n",
        "#3. ordenar datos\n",
        "\n",
        "df_ordenado = df.sort_values(by='Maya', key=lambda x: x.str.len(),ascending=True)\n",
        "\n",
        "print(\"Palabras Ordenadas :\")\n",
        "print(df_ordenado)\n",
        "\n",
        "#4. Contar duplicados\n",
        "\n",
        "duplicados_maya = df[df.duplicated(subset='Maya', keep=False)]\n",
        "\n",
        "print(\"Palabras Duplicadas en Maya\")\n",
        "print(duplicados_maya)\n"
      ],
      "metadata": {
        "id": "Uk7Ynldps9Oq"
      },
      "execution_count": null,
      "outputs": []
    },
    {
      "cell_type": "code",
      "source": [
        "!pip install mysql.connector"
      ],
      "metadata": {
        "colab": {
          "base_uri": "https://localhost:8080/"
        },
        "id": "67HVY9QhsqGC",
        "outputId": "b7d30195-7549-4d7f-bbb6-8bd57ce39d2f"
      },
      "execution_count": null,
      "outputs": [
        {
          "output_type": "stream",
          "name": "stdout",
          "text": [
            "Collecting mysql.connector\n",
            "  Downloading mysql-connector-2.2.9.tar.gz (11.9 MB)\n",
            "\u001b[2K     \u001b[90m━━━━━━━━━━━━━━━━━━━━━━━━━━━━━━━━━━━━━━━━\u001b[0m \u001b[32m11.9/11.9 MB\u001b[0m \u001b[31m25.0 MB/s\u001b[0m eta \u001b[36m0:00:00\u001b[0m\n",
            "\u001b[?25h  Preparing metadata (setup.py) ... \u001b[?25l\u001b[?25hdone\n",
            "Building wheels for collected packages: mysql.connector\n",
            "  Building wheel for mysql.connector (setup.py) ... \u001b[?25l\u001b[?25hdone\n",
            "  Created wheel for mysql.connector: filename=mysql_connector-2.2.9-cp310-cp310-linux_x86_64.whl size=247952 sha256=d299ed16aadda8408e1059e873dc6deac259a025470f4ab5cc4c0b9892e63c68\n",
            "  Stored in directory: /root/.cache/pip/wheels/76/48/9b/da67ff1a18fe8e9d428f9b1a177716d4a7d363d2bbe83bf6cf\n",
            "Successfully built mysql.connector\n",
            "Installing collected packages: mysql.connector\n",
            "Successfully installed mysql.connector-2.2.9\n"
          ]
        }
      ]
    },
    {
      "cell_type": "code",
      "source": [
        "import mysql.connector\n",
        "import json\n",
        "\n",
        "#CONECTAR A LA BDATOS\n",
        "conn = mysql.connector.connect(\n",
        "    host=\"mysql-raulmtz.alwaysdata.net\",\n",
        "    user=\"raulmtz_us\",\n",
        "    password=\"Vingcard15\",\n",
        "    database=\"raulmtz_bd\"\n",
        ")\n",
        "\n",
        "#VARIABLE DE CONSULTA A LA BASE DEDATOS\n",
        "cursor = conn.cursor()\n",
        "\n",
        "#CARGAR EL ARCHIVO JSON\n",
        "with open ('diccionario_maya.json', 'r', encoding = 'utf-8') as file:\n",
        "  diccionario_data = json.load(file)\n",
        "\n",
        "  for palabra in diccionario_data:\n",
        "    maya = palabra['Maya']\n",
        "    espanol = palabra['Español']\n",
        "    insert_query = \"INSERT INTO diccionario_json (maya,espanol)VALUES(%s,%s)\"\n",
        "    cursor.execute(insert_query,maya,espanol)\n",
        "\n",
        "    conn.commit()\n",
        "    cursor.close()\n",
        "    conn.close()\n",
        "\n",
        "\n"
      ],
      "metadata": {
        "id": "nJizTqeXtHlv"
      },
      "execution_count": null,
      "outputs": []
    },
    {
      "cell_type": "code",
      "source": [
        "#CARGAR EL ARCHIVO EN PANDAS\n",
        "\n",
        "    import pandas as pd\n",
        "\n",
        "    df_excel = pd.read_excel('diccionario_maya.xlsx')\n"
      ],
      "metadata": {
        "id": "vUPOZbN_1ad8"
      },
      "execution_count": null,
      "outputs": []
    }
  ]
}